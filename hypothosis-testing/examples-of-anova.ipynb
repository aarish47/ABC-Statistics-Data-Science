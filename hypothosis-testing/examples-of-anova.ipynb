{
 "cells": [
  {
   "cell_type": "markdown",
   "metadata": {},
   "source": [
    "# **Example codes of ANOVA**\n",
    "## **Written by:** Aarish Asif Khan\n",
    "## **Date:** 2 February 2024"
   ]
  },
  {
   "cell_type": "markdown",
   "metadata": {},
   "source": [
    "1. ### **One-Way ANOVA**"
   ]
  },
  {
   "cell_type": "code",
   "execution_count": 1,
   "metadata": {},
   "outputs": [
    {
     "name": "stdout",
     "output_type": "stream",
     "text": [
      "F-statistic: 15.662162162162158\n",
      "p-value: 0.0004515404760997282\n",
      "Reject null hypothesis: The means are not equal, as the p-value: {p_val} is less than 0.05\n"
     ]
    }
   ],
   "source": [
    "import scipy.stats as stats\n",
    "\n",
    "# Sample data: Growth of plants with three types of fertilizers\n",
    "fertilizer1 = [20, 22, 19, 24, 25]\n",
    "fertilizer2 = [28, 30, 27, 26, 29]\n",
    "fertilizer3 = [18, 20, 22, 19, 24]\n",
    "\n",
    "# Perform the one-way ANOVA\n",
    "f_stat, p_val = stats.f_oneway(fertilizer1, fertilizer2, fertilizer3)\n",
    "\n",
    "print(\"F-statistic:\", f_stat)\n",
    "print(\"p-value:\", p_val)\n",
    "\n",
    "# print the results based on if the p-value is less than 0.05\n",
    "\n",
    "if p_val < 0.05:\n",
    "    print(\"Reject null hypothesis: The means are not equal, as the p-value: {p_val} is less than 0.05\")\n",
    "else:\n",
    "    print(\"Accept null hypothesis: The means are equal, as the p-value: {p_val} is greater than 0.05\")"
   ]
  },
  {
   "cell_type": "markdown",
   "metadata": {},
   "source": [
    "### **Explanation of the code above**\n",
    "\n",
    "This Python code uses the scipy.stats library to perform a one-way Analysis of Variance (ANOVA) test on the growth of plants with three types of fertilizers. It calculates the F-statistic and p-value, then decides whether to reject the null hypothesis based on the p-value. If the p-value is less than 0.05, it rejects the null hypothesis, indicating that the means of plant growth are not equal for all fertilizers. Otherwise, it accepts the null hypothesis, suggesting equal means."
   ]
  },
  {
   "cell_type": "markdown",
   "metadata": {},
   "source": [
    "### **Using One-way ANOVA with statsmodel**"
   ]
  },
  {
   "cell_type": "code",
   "execution_count": 2,
   "metadata": {},
   "outputs": [
    {
     "name": "stdout",
     "output_type": "stream",
     "text": [
      "Requirement already satisfied: statsmodels in c:\\users\\user\\appdata\\local\\programs\\python\\python311\\lib\\site-packages (0.14.1)Note: you may need to restart the kernel to use updated packages.\n",
      "\n",
      "Requirement already satisfied: numpy<2,>=1.18 in c:\\users\\user\\appdata\\roaming\\python\\python311\\site-packages (from statsmodels) (1.26.2)\n",
      "Requirement already satisfied: scipy!=1.9.2,>=1.4 in c:\\users\\user\\appdata\\roaming\\python\\python311\\site-packages (from statsmodels) (1.11.4)\n",
      "Requirement already satisfied: pandas!=2.1.0,>=1.0 in c:\\users\\user\\appdata\\roaming\\python\\python311\\site-packages (from statsmodels) (2.1.4)\n",
      "Requirement already satisfied: patsy>=0.5.4 in c:\\users\\user\\appdata\\local\\programs\\python\\python311\\lib\\site-packages (from statsmodels) (0.5.6)\n",
      "Requirement already satisfied: packaging>=21.3 in c:\\users\\user\\appdata\\roaming\\python\\python311\\site-packages (from statsmodels) (23.2)\n",
      "Requirement already satisfied: python-dateutil>=2.8.2 in c:\\users\\user\\appdata\\roaming\\python\\python311\\site-packages (from pandas!=2.1.0,>=1.0->statsmodels) (2.8.2)\n",
      "Requirement already satisfied: pytz>=2020.1 in c:\\users\\user\\appdata\\roaming\\python\\python311\\site-packages (from pandas!=2.1.0,>=1.0->statsmodels) (2023.3.post1)\n",
      "Requirement already satisfied: tzdata>=2022.1 in c:\\users\\user\\appdata\\roaming\\python\\python311\\site-packages (from pandas!=2.1.0,>=1.0->statsmodels) (2023.3)\n",
      "Requirement already satisfied: six in c:\\users\\user\\appdata\\roaming\\python\\python311\\site-packages (from patsy>=0.5.4->statsmodels) (1.16.0)\n"
     ]
    },
    {
     "name": "stderr",
     "output_type": "stream",
     "text": [
      "\n",
      "[notice] A new release of pip available: 22.3 -> 23.3.2\n",
      "[notice] To update, run: python.exe -m pip install --upgrade pip\n"
     ]
    }
   ],
   "source": [
    "pip install statsmodels"
   ]
  },
  {
   "cell_type": "code",
   "execution_count": 3,
   "metadata": {},
   "outputs": [],
   "source": [
    "# One-way ANOVA using statsmodels\n",
    "import pandas as pd\n",
    "import statsmodels.api as sm\n",
    "from statsmodels.formula.api import ols"
   ]
  },
  {
   "cell_type": "code",
   "execution_count": 4,
   "metadata": {},
   "outputs": [
    {
     "data": {
      "text/plain": [
       "fertilizer\n",
       "fertilizer1    5\n",
       "fertilizer2    5\n",
       "fertilizer3    5\n",
       "Name: count, dtype: int64"
      ]
     },
     "execution_count": 4,
     "metadata": {},
     "output_type": "execute_result"
    }
   ],
   "source": [
    "# Create a dataframe\n",
    "df = pd.DataFrame({\"fertilizer\": [\"fertilizer1\"] * 5 + [\"fertilizer2\"] * 5 + [\"fertilizer3\"] * 5,\n",
    "                   \"growth\": fertilizer1 + fertilizer2 + fertilizer3})\n",
    "\n",
    "df['fertilizer'].value_counts()"
   ]
  },
  {
   "cell_type": "code",
   "execution_count": 5,
   "metadata": {},
   "outputs": [],
   "source": [
    "# Fit the model\n",
    "model = ols(\"growth ~ fertilizer\", data=df).fit()"
   ]
  },
  {
   "cell_type": "code",
   "execution_count": 6,
   "metadata": {},
   "outputs": [
    {
     "name": "stdout",
     "output_type": "stream",
     "text": [
      "                sum_sq    df          F    PR(>F)\n",
      "fertilizer  154.533333   2.0  15.662162  0.000452\n",
      "Residual     59.200000  12.0        NaN       NaN\n"
     ]
    }
   ],
   "source": [
    "# Perform ANOVA and print the summary table\n",
    "anova_table = sm.stats.anova_lm(model, typ=2)\n",
    "print(anova_table)"
   ]
  },
  {
   "cell_type": "code",
   "execution_count": 7,
   "metadata": {},
   "outputs": [
    {
     "name": "stdout",
     "output_type": "stream",
     "text": [
      "Reject null hypothesis: The means are not equal, as the p-value is less than 0.05\n"
     ]
    },
    {
     "name": "stderr",
     "output_type": "stream",
     "text": [
      "C:\\Users\\User\\AppData\\Local\\Temp\\ipykernel_5312\\2369786018.py:2: FutureWarning: Series.__getitem__ treating keys as positions is deprecated. In a future version, integer keys will always be treated as labels (consistent with DataFrame behavior). To access a value by position, use `ser.iloc[pos]`\n",
      "  if anova_table[\"PR(>F)\"][0] < 0.05:\n"
     ]
    }
   ],
   "source": [
    "# Print the results based on if the p-value is less than 0.05\n",
    "if anova_table[\"PR(>F)\"][0] < 0.05:\n",
    "    print(\"Reject null hypothesis: The means are not equal, as the p-value is less than 0.05\")\n",
    "else:\n",
    "    print(\"Accept null hypothesis: The means are equal, as the p-value is greater than 0.05\")\n"
   ]
  },
  {
   "cell_type": "markdown",
   "metadata": {},
   "source": [
    "2. ### **Two-Way ANOVA**"
   ]
  },
  {
   "cell_type": "code",
   "execution_count": 8,
   "metadata": {},
   "outputs": [
    {
     "data": {
      "text/html": [
       "<div>\n",
       "<style scoped>\n",
       "    .dataframe tbody tr th:only-of-type {\n",
       "        vertical-align: middle;\n",
       "    }\n",
       "\n",
       "    .dataframe tbody tr th {\n",
       "        vertical-align: top;\n",
       "    }\n",
       "\n",
       "    .dataframe thead th {\n",
       "        text-align: right;\n",
       "    }\n",
       "</style>\n",
       "<table border=\"1\" class=\"dataframe\">\n",
       "  <thead>\n",
       "    <tr style=\"text-align: right;\">\n",
       "      <th></th>\n",
       "      <th>Growth</th>\n",
       "      <th>Fertilizer</th>\n",
       "      <th>Sunlight</th>\n",
       "    </tr>\n",
       "  </thead>\n",
       "  <tbody>\n",
       "    <tr>\n",
       "      <th>0</th>\n",
       "      <td>20</td>\n",
       "      <td>F1</td>\n",
       "      <td>High</td>\n",
       "    </tr>\n",
       "    <tr>\n",
       "      <th>1</th>\n",
       "      <td>22</td>\n",
       "      <td>F1</td>\n",
       "      <td>High</td>\n",
       "    </tr>\n",
       "    <tr>\n",
       "      <th>2</th>\n",
       "      <td>19</td>\n",
       "      <td>F1</td>\n",
       "      <td>High</td>\n",
       "    </tr>\n",
       "    <tr>\n",
       "      <th>3</th>\n",
       "      <td>24</td>\n",
       "      <td>F1</td>\n",
       "      <td>High</td>\n",
       "    </tr>\n",
       "    <tr>\n",
       "      <th>4</th>\n",
       "      <td>25</td>\n",
       "      <td>F1</td>\n",
       "      <td>High</td>\n",
       "    </tr>\n",
       "  </tbody>\n",
       "</table>\n",
       "</div>"
      ],
      "text/plain": [
       "   Growth Fertilizer Sunlight\n",
       "0      20         F1     High\n",
       "1      22         F1     High\n",
       "2      19         F1     High\n",
       "3      24         F1     High\n",
       "4      25         F1     High"
      ]
     },
     "execution_count": 8,
     "metadata": {},
     "output_type": "execute_result"
    }
   ],
   "source": [
    "# Sample data\n",
    "data = pd.DataFrame({\n",
    "    \"Growth\": [20, 22, 19, 24, 25, 28, 30, 27, 26, 29, 18, 20, 22, 19, 24,\n",
    "               21, 23, 20, 25, 26, 29, 31, 28, 27, 30, 19, 21, 23, 20, 25],\n",
    "    \"Fertilizer\": [\"F1\", \"F1\", \"F1\", \"F1\", \"F1\", \"F2\", \"F2\", \"F2\", \"F2\", \"F2\", \n",
    "                   \"F3\", \"F3\", \"F3\", \"F3\", \"F3\", \"F1\", \"F1\", \"F1\", \"F1\", \"F1\", \n",
    "                   \"F2\", \"F2\", \"F2\", \"F2\", \"F2\", \"F3\", \"F3\", \"F3\", \"F3\", \"F3\"],\n",
    "    \"Sunlight\": [\"High\", \"High\", \"High\", \"High\", \"High\", \"High\", \"High\", \"High\", \"High\", \"High\", \n",
    "                 \"High\", \"High\", \"High\", \"High\", \"High\", \"Low\", \"Low\", \"Low\", \"Low\", \"Low\", \n",
    "                 \"Low\", \"Low\", \"Low\", \"Low\", \"Low\", \"Low\", \"Low\", \"Low\", \"Low\", \"Low\"]\n",
    "})\n",
    "data.head()"
   ]
  },
  {
   "cell_type": "code",
   "execution_count": 9,
   "metadata": {},
   "outputs": [
    {
     "name": "stdout",
     "output_type": "stream",
     "text": [
      "                                 sum_sq    df             F        PR(>F)\n",
      "C(Fertilizer)              3.090667e+02   2.0  3.132432e+01  2.038888e-07\n",
      "C(Sunlight)                7.500000e+00   1.0  1.520270e+00  2.295198e-01\n",
      "C(Fertilizer):C(Sunlight)  6.441240e-28   2.0  6.528284e-29  1.000000e+00\n",
      "Residual                   1.184000e+02  24.0           NaN           NaN\n",
      "Reject null hypothesis: The means are not equal, as the p-value: {p_val} is less than 0.05\n"
     ]
    },
    {
     "name": "stderr",
     "output_type": "stream",
     "text": [
      "C:\\Users\\User\\AppData\\Local\\Temp\\ipykernel_5312\\1127512014.py:25: FutureWarning: Series.__getitem__ treating keys as positions is deprecated. In a future version, integer keys will always be treated as labels (consistent with DataFrame behavior). To access a value by position, use `ser.iloc[pos]`\n",
      "  if anova_table[\"PR(>F)\"][0] < 0.05:\n"
     ]
    }
   ],
   "source": [
    "import pandas as pd\n",
    "import statsmodels.api as sm\n",
    "from statsmodels.formula.api import ols\n",
    "\n",
    "# Sample data\n",
    "data = pd.DataFrame({\n",
    "    \"Growth\": [20, 22, 19, 24, 25, 28, 30, 27, 26, 29, 18, 20, 22, 19, 24,\n",
    "               21, 23, 20, 25, 26, 29, 31, 28, 27, 30, 19, 21, 23, 20, 25],\n",
    "    \"Fertilizer\": [\"F1\", \"F1\", \"F1\", \"F1\", \"F1\", \"F2\", \"F2\", \"F2\", \"F2\", \"F2\", \n",
    "                   \"F3\", \"F3\", \"F3\", \"F3\", \"F3\", \"F1\", \"F1\", \"F1\", \"F1\", \"F1\", \n",
    "                   \"F2\", \"F2\", \"F2\", \"F2\", \"F2\", \"F3\", \"F3\", \"F3\", \"F3\", \"F3\"],\n",
    "    \"Sunlight\": [\"High\", \"High\", \"High\", \"High\", \"High\", \"High\", \"High\", \"High\", \"High\", \"High\", \n",
    "                 \"High\", \"High\", \"High\", \"High\", \"High\", \"Low\", \"Low\", \"Low\", \"Low\", \"Low\", \n",
    "                 \"Low\", \"Low\", \"Low\", \"Low\", \"Low\", \"Low\", \"Low\", \"Low\", \"Low\", \"Low\"]\n",
    "})\n",
    "\n",
    "# Perform two-way ANOVA\n",
    "model = ols('Growth ~ C(Fertilizer) + C(Sunlight) + C(Fertilizer):C(Sunlight)', data=data).fit()\n",
    "anova_table = sm.stats.anova_lm(model, typ=2)\n",
    "\n",
    "print(anova_table)\n",
    "\n",
    "# print the results based on if the p-value is less than 0.05\n",
    "\n",
    "if anova_table[\"PR(>F)\"][0] < 0.05:\n",
    "    print(\"Reject null hypothesis: The means are not equal, as the p-value: {p_val} is less than 0.05\")\n",
    "else:\n",
    "    print(\"Accept null hypothesis: The means are equal, as the p-value: {p_val} is greater than 0.05\")"
   ]
  },
  {
   "cell_type": "markdown",
   "metadata": {},
   "source": [
    "### **Explanation of the code above**"
   ]
  },
  {
   "cell_type": "markdown",
   "metadata": {},
   "source": [
    "This Python code uses the pandas library to create a DataFrame with growth data, and then performs a two-way Analysis of Variance (ANOVA) using the statsmodels library. The ANOVA is applied to study the impact of two categorical variables, \"Fertilizer\" and \"Sunlight,\" on the continuous variable \"Growth.\"\n",
    "\n",
    "The code builds an ANOVA model with the formula 'Growth ~ C(Fertilizer) + C(Sunlight) + C(Fertilizer):C(Sunlight)' and fits the model to the data. It then generates an ANOVA table and prints the results. Finally, it checks if the p-value from the ANOVA table is less than 0.05, and based on the result, it either rejects or accepts the null hypothesis. The null hypothesis is that the means of the groups are equal.\n",
    "\n",
    "In the printed results, if the p-value is less than 0.05, it states that the null hypothesis is rejected, indicating that there is a significant difference in means. If the p-value is greater than or equal to 0.05, it states that the null hypothesis is accepted, suggesting no significant difference in means. The actual p-value is also displayed in the message.\n",
    "\n",
    "\n",
    "\n",
    "\n"
   ]
  },
  {
   "cell_type": "markdown",
   "metadata": {},
   "source": [
    "3. ### **Three-Way ANOVA**"
   ]
  },
  {
   "cell_type": "code",
   "execution_count": 10,
   "metadata": {},
   "outputs": [
    {
     "name": "stdout",
     "output_type": "stream",
     "text": [
      "                                             sum_sq    df             F  \\\n",
      "C(Fertilizer)                          4.680444e+02   2.0  5.802204e+01   \n",
      "C(Sunlight)                           -2.535276e-13   1.0 -6.285807e-14   \n",
      "C(Watering)                            1.315469e-12   1.0  3.261494e-13   \n",
      "C(Fertilizer):C(Sunlight)              7.222841e-13   2.0  8.953936e-14   \n",
      "C(Fertilizer):C(Watering)              4.426063e-13   2.0  5.486855e-14   \n",
      "C(Sunlight):C(Watering)                2.054444e+01   1.0  5.093664e+00   \n",
      "C(Fertilizer):C(Sunlight):C(Watering)  1.088889e+00   2.0  1.349862e-01   \n",
      "Residual                               1.573000e+02  39.0           NaN   \n",
      "\n",
      "                                             PR(>F)  \n",
      "C(Fertilizer)                          2.050614e-12  \n",
      "C(Sunlight)                            1.000000e+00  \n",
      "C(Watering)                            9.999995e-01  \n",
      "C(Fertilizer):C(Sunlight)              1.000000e+00  \n",
      "C(Fertilizer):C(Watering)              1.000000e+00  \n",
      "C(Sunlight):C(Watering)                2.969139e-02  \n",
      "C(Fertilizer):C(Sunlight):C(Watering)  8.741344e-01  \n",
      "Residual                                        NaN  \n",
      "Reject null hypothesis: The means are not equal, as the p-value: {p_val} is less than 0.05\n"
     ]
    },
    {
     "name": "stderr",
     "output_type": "stream",
     "text": [
      "C:\\Users\\User\\AppData\\Local\\Temp\\ipykernel_5312\\3243821222.py:42: FutureWarning: Series.__getitem__ treating keys as positions is deprecated. In a future version, integer keys will always be treated as labels (consistent with DataFrame behavior). To access a value by position, use `ser.iloc[pos]`\n",
      "  if anova_results[\"PR(>F)\"][0] < 0.05:\n"
     ]
    }
   ],
   "source": [
    "import pandas as pd\n",
    "import statsmodels.api as sm\n",
    "from statsmodels.formula.api import ols\n",
    "\n",
    "# Sample data\n",
    "data = pd.DataFrame({\n",
    "    \"Growth\": [20, 22, 19, 24, 25, 28, 30, 27, 26, 29, 18, 20, 22, 19, 24,\n",
    "               21, 23, 20, 25, 26, 29, 31, 28, 27, 30, 19, 21, 23, 20, 25,\n",
    "               20, 22, 21, 23, 24, 26, 28, 25, 27, 29, 17, 19, 21, 18, 20],\n",
    "    \"Fertilizer\": [\"F1\", \"F1\", \"F1\", \"F1\", \"F1\", \"F2\", \"F2\", \"F2\", \"F2\", \"F2\", \n",
    "                   \"F3\", \"F3\", \"F3\", \"F3\", \"F3\", \"F1\", \"F1\", \"F1\", \"F1\", \"F1\", \n",
    "                   \"F2\", \"F2\", \"F2\", \"F2\", \"F2\", \"F3\", \"F3\", \"F3\", \"F3\", \"F3\",\n",
    "                   \"F1\", \"F1\", \"F1\", \"F1\", \"F1\", \"F2\", \"F2\", \"F2\", \"F2\", \"F2\", \n",
    "                   \"F3\", \"F3\", \"F3\", \"F3\", \"F3\"],\n",
    "    \"Sunlight\": [\"High\", \"High\", \"High\", \"High\", \"High\", \"High\", \"High\", \"High\", \"High\", \"High\", \n",
    "                 \"High\", \"High\", \"High\", \"High\", \"High\", \"Low\", \"Low\", \"Low\", \"Low\", \"Low\", \n",
    "                 \"Low\", \"Low\", \"Low\", \"Low\", \"Low\", \"Low\", \"Low\", \"Low\", \"Low\", \"Low\",\n",
    "                 \"High\", \"High\", \"High\", \"High\", \"High\", \"High\", \"High\", \"High\", \"High\", \"High\", \n",
    "                 \"High\", \"High\", \"High\", \"High\", \"High\"],\n",
    "    \"Watering\": [\"Regular\", \"Regular\", \"Regular\", \"Regular\", \"Regular\", \n",
    "                 \"Regular\", \"Regular\", \"Regular\", \"Regular\", \"Regular\",\n",
    "                 \"Regular\", \"Regular\", \"Regular\", \"Regular\", \"Regular\",\n",
    "                 \"Sparse\", \"Sparse\", \"Sparse\", \"Sparse\", \"Sparse\", \n",
    "                 \"Sparse\", \"Sparse\", \"Sparse\", \"Sparse\", \"Sparse\",\n",
    "                 \"Sparse\", \"Sparse\", \"Sparse\", \"Sparse\", \"Sparse\",\n",
    "                 \"Regular\", \"Regular\", \"Regular\", \"Regular\", \"Regular\", \n",
    "                 \"Regular\", \"Regular\", \"Regular\", \"Regular\", \"Regular\",\n",
    "                 \"Regular\", \"Regular\", \"Regular\", \"Regular\", \"Regular\"]\n",
    "})\n",
    "\n",
    "# Fit the model\n",
    "model = ols('Growth ~ C(Fertilizer) + C(Sunlight) + C(Watering) + C(Fertilizer):C(Sunlight) + C(Fertilizer):C(Watering) + C(Sunlight):C(Watering) + C(Fertilizer):C(Sunlight):C(Watering)', data=data).fit()\n",
    "\n",
    "# Perform three-way ANOVA\n",
    "anova_results = sm.stats.anova_lm(model, typ=2)\n",
    "\n",
    "print(anova_results)\n",
    "\n",
    "\n",
    "# print the results based on if the p-value is less than 0.05\n",
    "\n",
    "if anova_results[\"PR(>F)\"][0] < 0.05:\n",
    "    print(\"Reject null hypothesis: The means are not equal, as the p-value: {p_val} is less than 0.05\")\n",
    "else:\n",
    "    print(\"Fail to reject null hypothesis: The means are equal, as the p-value: {p_val} is greater than 0.05\")"
   ]
  },
  {
   "cell_type": "markdown",
   "metadata": {},
   "source": [
    "### **Explanation of the code above**"
   ]
  },
  {
   "cell_type": "markdown",
   "metadata": {},
   "source": [
    "\n",
    "This Python code conducts a three-way Analysis of Variance (ANOVA) on a dataset with growth data, involving three categorical variables: \"Fertilizer,\" \"Sunlight,\" and \"Watering.\" It checks if the means of growth are significantly different based on these variables and their interactions. The results are printed, and it decides whether to reject the null hypothesis based on the p-values."
   ]
  },
  {
   "cell_type": "markdown",
   "metadata": {},
   "source": [
    "### **Post-hoc Tests**\n",
    "\n",
    "After conducting an ANOVA and finding a significant difference, a post hoc test is needed to determine exactly which groups differ from each other. Here, I'll demonstrate post hoc tests for one-way, two-way, and N-way ANOVA using Python.\n",
    "\n",
    "### **Post-hoc Tests for One-Way ANOVA**"
   ]
  },
  {
   "cell_type": "code",
   "execution_count": 11,
   "metadata": {},
   "outputs": [
    {
     "name": "stdout",
     "output_type": "stream",
     "text": [
      " Multiple Comparison of Means - Tukey HSD, FWER=0.05 \n",
      "=====================================================\n",
      "group1 group2 meandiff p-adj   lower    upper  reject\n",
      "-----------------------------------------------------\n",
      "    F1     F2      6.0 0.0029   2.2523  9.7477   True\n",
      "    F1     F3     -1.4 0.5928  -5.1477  2.3477  False\n",
      "    F2     F3     -7.4 0.0005 -11.1477 -3.6523   True\n",
      "-----------------------------------------------------\n"
     ]
    }
   ],
   "source": [
    "from statsmodels.stats.multicomp import pairwise_tukeyhsd\n",
    "import numpy as np\n",
    "\n",
    "# Sample data\n",
    "data = {\n",
    "    'Growth': np.concatenate([fertilizer1, fertilizer2, fertilizer3]),\n",
    "    'Fertilizer': ['F1']*len(fertilizer1) + ['F2']*len(fertilizer2) + ['F3']*len(fertilizer3)\n",
    "}\n",
    "\n",
    "# Convert to DataFrame\n",
    "df = pd.DataFrame(data)\n",
    "\n",
    "# Tukey's HSD test\n",
    "tukey = pairwise_tukeyhsd(endog=df['Growth'], groups=df['Fertilizer'], alpha=0.05)\n",
    "print(tukey)"
   ]
  },
  {
   "cell_type": "markdown",
   "metadata": {},
   "source": [
    "### **Explanation of the code above**"
   ]
  },
  {
   "cell_type": "markdown",
   "metadata": {},
   "source": [
    "\n",
    "This Python code performs Tukey's Honestly Significant Difference (HSD) test using the statsmodels library. It compares the means of growth data for three different fertilizers ('F1', 'F2', 'F3'). The results of the test, including pairwise comparisons and confidence intervals, are printed to evaluate if there are significant differences in growth between the fertilizer groups.\n"
   ]
  },
  {
   "cell_type": "markdown",
   "metadata": {},
   "source": [
    "### **Post-hoc Tests for Two-Way ANOVA**"
   ]
  },
  {
   "cell_type": "code",
   "execution_count": 12,
   "metadata": {},
   "outputs": [],
   "source": [
    "from statsmodels.stats.multicomp import pairwise_tukeyhsd\n",
    "import pandas as pd\n",
    "import statsmodels.api as sm\n",
    "from statsmodels.formula.api import ols\n",
    "\n",
    "# Sample data\n",
    "data = pd.DataFrame({\n",
    "    \"Growth\": [20, 22, 19, 24, 25, 28, 30, 27, 26, 29, 18, 20, 22, 19, 24,\n",
    "               21, 23, 20, 25, 26, 29, 31, 28, 27, 30, 19, 21, 23, 20, 25],\n",
    "    \"Fertilizer\": [\"F1\", \"F1\", \"F1\", \"F1\", \"F1\", \"F2\", \"F2\", \"F2\", \"F2\", \"F2\", \n",
    "                   \"F3\", \"F3\", \"F3\", \"F3\", \"F3\", \"F1\", \"F1\", \"F1\", \"F1\", \"F1\", \n",
    "                   \"F2\", \"F2\", \"F2\", \"F2\", \"F2\", \"F3\", \"F3\", \"F3\", \"F3\", \"F3\"],\n",
    "    \"Sunlight\": [\"High\", \"High\", \"High\", \"High\", \"High\", \"High\", \"High\", \"High\", \"High\", \"High\", \n",
    "                 \"High\", \"High\", \"High\", \"High\", \"High\", \"Low\", \"Low\", \"Low\", \"Low\", \"Low\", \n",
    "                 \"Low\", \"Low\", \"Low\", \"Low\", \"Low\", \"Low\", \"Low\", \"Low\", \"Low\", \"Low\"]\n",
    "})\n",
    "\n",
    "tukey = pairwise_tukeyhsd(data['Growth'], data['Fertilizer'] + data['Sunlight'], alpha=0.05)"
   ]
  },
  {
   "cell_type": "markdown",
   "metadata": {},
   "source": [
    "### **Explanation of the code above**"
   ]
  },
  {
   "cell_type": "markdown",
   "metadata": {},
   "source": [
    "\n",
    "This Python code utilizes the statsmodels library to perform Tukey's Honestly Significant Difference (HSD) test on growth data based on different levels of \"Fertilizer\" and \"Sunlight.\" It checks for significant differences in growth among the groups and prints the results, including pairwise comparisons and confidence intervals."
   ]
  },
  {
   "cell_type": "markdown",
   "metadata": {},
   "source": [
    "### **Post-hoc Tests for N-Way ANOVA (Factorial ANOVA)**"
   ]
  },
  {
   "cell_type": "code",
   "execution_count": 13,
   "metadata": {},
   "outputs": [
    {
     "name": "stdout",
     "output_type": "stream",
     "text": [
      "        Multiple Comparison of Means - Tukey HSD, FWER=0.05        \n",
      "===================================================================\n",
      "    group1        group2    meandiff p-adj   lower    upper  reject\n",
      "-------------------------------------------------------------------\n",
      "F1HighRegular   F1LowSparse      1.0 0.9419  -2.2956  4.2956  False\n",
      "F1HighRegular F2HighRegular      5.5    0.0   2.8092  8.1908   True\n",
      "F1HighRegular   F2LowSparse      7.0    0.0   3.7044 10.2956   True\n",
      "F1HighRegular F3HighRegular     -2.2 0.1647  -4.8908  0.4908  False\n",
      "F1HighRegular   F3LowSparse     -0.4 0.9991  -3.6956  2.8956  False\n",
      "  F1LowSparse F2HighRegular      4.5 0.0027   1.2044  7.7956   True\n",
      "  F1LowSparse   F2LowSparse      6.0 0.0004   2.1946  9.8054   True\n",
      "  F1LowSparse F3HighRegular     -3.2 0.0613  -6.4956  0.0956  False\n",
      "  F1LowSparse   F3LowSparse     -1.4 0.8775  -5.2054  2.4054  False\n",
      "F2HighRegular   F2LowSparse      1.5 0.7478  -1.7956  4.7956  False\n",
      "F2HighRegular F3HighRegular     -7.7    0.0 -10.3908 -5.0092   True\n",
      "F2HighRegular   F3LowSparse     -5.9 0.0001  -9.1956 -2.6044   True\n",
      "  F2LowSparse F3HighRegular     -9.2    0.0 -12.4956 -5.9044   True\n",
      "  F2LowSparse   F3LowSparse     -7.4    0.0 -11.2054 -3.5946   True\n",
      "F3HighRegular   F3LowSparse      1.8 0.5804  -1.4956  5.0956  False\n",
      "-------------------------------------------------------------------\n"
     ]
    }
   ],
   "source": [
    "from statsmodels.stats.multicomp import pairwise_tukeyhsd\n",
    "# Sample data\n",
    "data = pd.DataFrame({\n",
    "    \"Growth\": [20, 22, 19, 24, 25, 28, 30, 27, 26, 29, 18, 20, 22, 19, 24,\n",
    "               21, 23, 20, 25, 26, 29, 31, 28, 27, 30, 19, 21, 23, 20, 25,\n",
    "               20, 22, 21, 23, 24, 26, 28, 25, 27, 29, 17, 19, 21, 18, 20],\n",
    "    \"Fertilizer\": [\"F1\", \"F1\", \"F1\", \"F1\", \"F1\", \"F2\", \"F2\", \"F2\", \"F2\", \"F2\", \n",
    "                   \"F3\", \"F3\", \"F3\", \"F3\", \"F3\", \"F1\", \"F1\", \"F1\", \"F1\", \"F1\", \n",
    "                   \"F2\", \"F2\", \"F2\", \"F2\", \"F2\", \"F3\", \"F3\", \"F3\", \"F3\", \"F3\",\n",
    "                   \"F1\", \"F1\", \"F1\", \"F1\", \"F1\", \"F2\", \"F2\", \"F2\", \"F2\", \"F2\", \n",
    "                   \"F3\", \"F3\", \"F3\", \"F3\", \"F3\"],\n",
    "    \"Sunlight\": [\"High\", \"High\", \"High\", \"High\", \"High\", \"High\", \"High\", \"High\", \"High\", \"High\", \n",
    "                 \"High\", \"High\", \"High\", \"High\", \"High\", \"Low\", \"Low\", \"Low\", \"Low\", \"Low\", \n",
    "                 \"Low\", \"Low\", \"Low\", \"Low\", \"Low\", \"Low\", \"Low\", \"Low\", \"Low\", \"Low\",\n",
    "                 \"High\", \"High\", \"High\", \"High\", \"High\", \"High\", \"High\", \"High\", \"High\", \"High\", \n",
    "                 \"High\", \"High\", \"High\", \"High\", \"High\"],\n",
    "    \"Watering\": [\"Regular\", \"Regular\", \"Regular\", \"Regular\", \"Regular\", \n",
    "                 \"Regular\", \"Regular\", \"Regular\", \"Regular\", \"Regular\",\n",
    "                 \"Regular\", \"Regular\", \"Regular\", \"Regular\", \"Regular\",\n",
    "                 \"Sparse\", \"Sparse\", \"Sparse\", \"Sparse\", \"Sparse\", \n",
    "                 \"Sparse\", \"Sparse\", \"Sparse\", \"Sparse\", \"Sparse\",\n",
    "                 \"Sparse\", \"Sparse\", \"Sparse\", \"Sparse\", \"Sparse\",\n",
    "                 \"Regular\", \"Regular\", \"Regular\", \"Regular\", \"Regular\", \n",
    "                 \"Regular\", \"Regular\", \"Regular\", \"Regular\", \"Regular\",\n",
    "                 \"Regular\", \"Regular\", \"Regular\", \"Regular\", \"Regular\"]\n",
    "})\n",
    "\n",
    "tukey = pairwise_tukeyhsd(data['Growth'], data['Fertilizer'] + data['Sunlight'] + data['Watering'], alpha=0.05)\n",
    "print(tukey)"
   ]
  },
  {
   "cell_type": "markdown",
   "metadata": {},
   "source": [
    "### **Explanation of the code above**"
   ]
  },
  {
   "cell_type": "markdown",
   "metadata": {},
   "source": [
    "\n",
    "This Python code uses the statsmodels library to perform Tukey's Honestly Significant Difference (HSD) test on growth data. It compares the means of growth among different levels of \"Fertilizer,\" \"Sunlight,\" and \"Watering.\" The Tukey HSD test helps identify significant differences between pairs of groups and prints results, including pairwise comparisons and confidence intervals, to assess whether there are significant variations in growth among the various conditions."
   ]
  },
  {
   "cell_type": "markdown",
   "metadata": {},
   "source": [
    "### **Bonferri Correction**\n",
    "\n",
    "The Bonferroni test is a type of post hoc analysis used after conducting ANOVA when multiple pairwise comparisons are needed. It's a conservative method that adjusts the significance level to account for the increased risk of Type I errors (false positives) due to multiple testing. The Bonferroni correction simply divides the alpha level by the number of comparisons.\n"
   ]
  },
  {
   "cell_type": "code",
   "execution_count": 14,
   "metadata": {},
   "outputs": [
    {
     "name": "stdout",
     "output_type": "stream",
     "text": [
      "F1 vs F2: t-statistic = -4.472, p-value (adjusted) = 0.006\n",
      "F1 vs F3: t-statistic = 0.893, p-value (adjusted) = 1.194\n",
      "F2 vs F3: t-statistic = 5.744, p-value (adjusted) = 0.001\n"
     ]
    }
   ],
   "source": [
    "import scipy.stats as stats\n",
    "import pandas as pd\n",
    "\n",
    "# Sample data\n",
    "fertilizer1 = [20, 22, 19, 24, 25]\n",
    "fertilizer2 = [28, 30, 27, 26, 29]\n",
    "fertilizer3 = [18, 20, 22, 19, 24]\n",
    "\n",
    "# Create DataFrame\n",
    "data = {\n",
    "    'Growth': fertilizer1 + fertilizer2 + fertilizer3,\n",
    "    'Fertilizer': ['F1']*len(fertilizer1) + ['F2']*len(fertilizer2) + ['F3']*len(fertilizer3)\n",
    "}\n",
    "df = pd.DataFrame(data)\n",
    "\n",
    "# Number of comparisons\n",
    "num_comparisons = 3 # For 3 groups, we have 3 pairwise comparisons (F1 vs F2, F1 vs F3, F2 vs F3)\n",
    "\n",
    "# Adjusted alpha level (for significance)\n",
    "alpha = 0.05 / num_comparisons\n",
    "\n",
    "# Conduct pairwise t-tests with Bonferroni correction\n",
    "pairwise_results = []\n",
    "for group1 in df['Fertilizer'].unique():\n",
    "    for group2 in df['Fertilizer'].unique():\n",
    "        if group1 < group2: # To avoid duplicate comparisons\n",
    "            group1_data = df[df['Fertilizer'] == group1]['Growth']\n",
    "            group2_data = df[df['Fertilizer'] == group2]['Growth']\n",
    "            t_stat, p_val = stats.ttest_ind(group1_data, group2_data)\n",
    "            p_val_adjusted = p_val * num_comparisons\n",
    "            pairwise_results.append((f'{group1} vs {group2}', t_stat, p_val_adjusted))\n",
    "\n",
    "# Print results\n",
    "for result in pairwise_results:\n",
    "    group_comparison, t_stat, p_val_adjusted = result\n",
    "    print(f\"{group_comparison}: t-statistic = {t_stat:.3f}, p-value (adjusted) = {p_val_adjusted:.3f}\")"
   ]
  }
 ],
 "metadata": {
  "kernelspec": {
   "display_name": "Python 3",
   "language": "python",
   "name": "python3"
  },
  "language_info": {
   "codemirror_mode": {
    "name": "ipython",
    "version": 3
   },
   "file_extension": ".py",
   "mimetype": "text/x-python",
   "name": "python",
   "nbconvert_exporter": "python",
   "pygments_lexer": "ipython3",
   "version": "3.11.0"
  }
 },
 "nbformat": 4,
 "nbformat_minor": 2
}
