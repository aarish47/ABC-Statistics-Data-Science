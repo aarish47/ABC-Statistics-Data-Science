{
 "cells": [
  {
   "cell_type": "markdown",
   "metadata": {},
   "source": [
    "# **Statistical analysis in ABC Statistics**"
   ]
  },
  {
   "cell_type": "markdown",
   "metadata": {},
   "source": [
    "## **Written by:** Aarish Asif Khan\n",
    "## **Date:** 31 January 2024\n",
    "\n"
   ]
  },
  {
   "cell_type": "markdown",
   "metadata": {},
   "source": [
    "1. ### **Chi-Square test**"
   ]
  },
  {
   "cell_type": "markdown",
   "metadata": {},
   "source": [
    "\n",
    "The chi-square test is a statistical test used to determine if there is a significant association between categorical variables. It's commonly applied to analyze the distribution of observed frequencies compared to expected frequencies.\n",
    "\n",
    "## **Types of Chi-Square Tests**\n",
    "\n",
    "1. **Chi-Square Test for Independence:**\n",
    "\n",
    "   - Determines if there is a significant association between two categorical variables.\n",
    "   - Null Hypothesis (H₀): There is no association between the variables.\n",
    "   - Alternative Hypothesis (H₁): There is a significant association.\n",
    "   - Test involves comparing observed frequencies with expected frequencies using a contingency table.\n",
    "\n",
    "2. **Chi-Square Goodness-of-Fit Test:**\n",
    "\n",
    "   - Analyzes whether the distribution of observed categorical data matches an expected distribution.\n",
    "   - Null Hypothesis (H₀): No difference between observed and expected distributions.\n",
    "   - Alternative Hypothesis (H₁): Significant difference exists.\n",
    "   - Test compares observed frequencies in categories with expected frequencies.\n",
    "\n",
    "## Chi-Square Test Statistic Formula\n",
    "\n",
    "For the Chi-Square Test for Independence, the test statistic (\\( \\chi^2 \\)) is calculated using the formula:\n",
    "\n",
    "\\[ \\chi^2 = \\sum \\frac{(O_i - E_i)^2}{E_i} \\]\n",
    "\n",
    "where:\n",
    "- \\(O_i\\) is the observed frequency in each category.\n",
    "- \\(E_i\\) is the expected frequency in each category.\n",
    "\n",
    "## **Assumptions**\n",
    "\n",
    "- Data must be categorical.\n",
    "- Expected frequency in each cell of the contingency table should be greater than 5.\n",
    "\n",
    "## **How to Use**\n",
    "\n",
    "1. **Formulate Hypotheses:**\n",
    "   - Define null (H₀) and alternative (H₁) hypotheses based on the research question.\n",
    "\n",
    "2. **Collect Data:**\n",
    "   - Gather categorical data and organize it into a contingency table.\n",
    "\n",
    "3. **Calculate Expected Frequencies:**\n",
    "   - Determine the expected frequencies for each cell in the contingency table.\n",
    "\n",
    "4. **Compute Test Statistic:**\n",
    "   - Use the chi-square formula to calculate the test statistic.\n",
    "\n",
    "5. **Determine P-Value:**\n",
    "   - Compare the test statistic to a chi-square distribution to find the p-value.\n",
    "\n",
    "6. **Make a Decision:**\n",
    "   - If the p-value is below the chosen significance level, reject the null hypothesis.\n"
   ]
  },
  {
   "cell_type": "code",
   "execution_count": 2,
   "metadata": {},
   "outputs": [],
   "source": [
    "# install the library\n",
    "# !pip install scipy"
   ]
  },
  {
   "cell_type": "code",
   "execution_count": 3,
   "metadata": {},
   "outputs": [],
   "source": [
    "# import the library\n",
    "import scipy\n",
    "from scipy import stats\n",
    "import seaborn as sns\n",
    "import numpy as np \n",
    "import pandas as pd "
   ]
  },
  {
   "cell_type": "code",
   "execution_count": 4,
   "metadata": {},
   "outputs": [
    {
     "data": {
      "text/html": [
       "<div>\n",
       "<style scoped>\n",
       "    .dataframe tbody tr th:only-of-type {\n",
       "        vertical-align: middle;\n",
       "    }\n",
       "\n",
       "    .dataframe tbody tr th {\n",
       "        vertical-align: top;\n",
       "    }\n",
       "\n",
       "    .dataframe thead th {\n",
       "        text-align: right;\n",
       "    }\n",
       "</style>\n",
       "<table border=\"1\" class=\"dataframe\">\n",
       "  <thead>\n",
       "    <tr style=\"text-align: right;\">\n",
       "      <th></th>\n",
       "      <th>survived</th>\n",
       "      <th>pclass</th>\n",
       "      <th>sex</th>\n",
       "      <th>age</th>\n",
       "      <th>sibsp</th>\n",
       "      <th>parch</th>\n",
       "      <th>fare</th>\n",
       "      <th>embarked</th>\n",
       "      <th>class</th>\n",
       "      <th>who</th>\n",
       "      <th>adult_male</th>\n",
       "      <th>deck</th>\n",
       "      <th>embark_town</th>\n",
       "      <th>alive</th>\n",
       "      <th>alone</th>\n",
       "    </tr>\n",
       "  </thead>\n",
       "  <tbody>\n",
       "    <tr>\n",
       "      <th>0</th>\n",
       "      <td>0</td>\n",
       "      <td>3</td>\n",
       "      <td>male</td>\n",
       "      <td>22.0</td>\n",
       "      <td>1</td>\n",
       "      <td>0</td>\n",
       "      <td>7.2500</td>\n",
       "      <td>S</td>\n",
       "      <td>Third</td>\n",
       "      <td>man</td>\n",
       "      <td>True</td>\n",
       "      <td>NaN</td>\n",
       "      <td>Southampton</td>\n",
       "      <td>no</td>\n",
       "      <td>False</td>\n",
       "    </tr>\n",
       "    <tr>\n",
       "      <th>1</th>\n",
       "      <td>1</td>\n",
       "      <td>1</td>\n",
       "      <td>female</td>\n",
       "      <td>38.0</td>\n",
       "      <td>1</td>\n",
       "      <td>0</td>\n",
       "      <td>71.2833</td>\n",
       "      <td>C</td>\n",
       "      <td>First</td>\n",
       "      <td>woman</td>\n",
       "      <td>False</td>\n",
       "      <td>C</td>\n",
       "      <td>Cherbourg</td>\n",
       "      <td>yes</td>\n",
       "      <td>False</td>\n",
       "    </tr>\n",
       "    <tr>\n",
       "      <th>2</th>\n",
       "      <td>1</td>\n",
       "      <td>3</td>\n",
       "      <td>female</td>\n",
       "      <td>26.0</td>\n",
       "      <td>0</td>\n",
       "      <td>0</td>\n",
       "      <td>7.9250</td>\n",
       "      <td>S</td>\n",
       "      <td>Third</td>\n",
       "      <td>woman</td>\n",
       "      <td>False</td>\n",
       "      <td>NaN</td>\n",
       "      <td>Southampton</td>\n",
       "      <td>yes</td>\n",
       "      <td>True</td>\n",
       "    </tr>\n",
       "    <tr>\n",
       "      <th>3</th>\n",
       "      <td>1</td>\n",
       "      <td>1</td>\n",
       "      <td>female</td>\n",
       "      <td>35.0</td>\n",
       "      <td>1</td>\n",
       "      <td>0</td>\n",
       "      <td>53.1000</td>\n",
       "      <td>S</td>\n",
       "      <td>First</td>\n",
       "      <td>woman</td>\n",
       "      <td>False</td>\n",
       "      <td>C</td>\n",
       "      <td>Southampton</td>\n",
       "      <td>yes</td>\n",
       "      <td>False</td>\n",
       "    </tr>\n",
       "    <tr>\n",
       "      <th>4</th>\n",
       "      <td>0</td>\n",
       "      <td>3</td>\n",
       "      <td>male</td>\n",
       "      <td>35.0</td>\n",
       "      <td>0</td>\n",
       "      <td>0</td>\n",
       "      <td>8.0500</td>\n",
       "      <td>S</td>\n",
       "      <td>Third</td>\n",
       "      <td>man</td>\n",
       "      <td>True</td>\n",
       "      <td>NaN</td>\n",
       "      <td>Southampton</td>\n",
       "      <td>no</td>\n",
       "      <td>True</td>\n",
       "    </tr>\n",
       "  </tbody>\n",
       "</table>\n",
       "</div>"
      ],
      "text/plain": [
       "   survived  pclass     sex   age  sibsp  parch     fare embarked  class  \\\n",
       "0         0       3    male  22.0      1      0   7.2500        S  Third   \n",
       "1         1       1  female  38.0      1      0  71.2833        C  First   \n",
       "2         1       3  female  26.0      0      0   7.9250        S  Third   \n",
       "3         1       1  female  35.0      1      0  53.1000        S  First   \n",
       "4         0       3    male  35.0      0      0   8.0500        S  Third   \n",
       "\n",
       "     who  adult_male deck  embark_town alive  alone  \n",
       "0    man        True  NaN  Southampton    no  False  \n",
       "1  woman       False    C    Cherbourg   yes  False  \n",
       "2  woman       False  NaN  Southampton   yes   True  \n",
       "3  woman       False    C  Southampton   yes  False  \n",
       "4    man        True  NaN  Southampton    no   True  "
      ]
     },
     "execution_count": 4,
     "metadata": {},
     "output_type": "execute_result"
    }
   ],
   "source": [
    "# load the dataset\n",
    "df = sns.load_dataset('titanic')\n",
    "df.head()"
   ]
  },
  {
   "cell_type": "code",
   "execution_count": 5,
   "metadata": {},
   "outputs": [
    {
     "data": {
      "text/html": [
       "<div>\n",
       "<style scoped>\n",
       "    .dataframe tbody tr th:only-of-type {\n",
       "        vertical-align: middle;\n",
       "    }\n",
       "\n",
       "    .dataframe tbody tr th {\n",
       "        vertical-align: top;\n",
       "    }\n",
       "\n",
       "    .dataframe thead th {\n",
       "        text-align: right;\n",
       "    }\n",
       "</style>\n",
       "<table border=\"1\" class=\"dataframe\">\n",
       "  <thead>\n",
       "    <tr style=\"text-align: right;\">\n",
       "      <th>survived</th>\n",
       "      <th>0</th>\n",
       "      <th>1</th>\n",
       "    </tr>\n",
       "    <tr>\n",
       "      <th>sex</th>\n",
       "      <th></th>\n",
       "      <th></th>\n",
       "    </tr>\n",
       "  </thead>\n",
       "  <tbody>\n",
       "    <tr>\n",
       "      <th>female</th>\n",
       "      <td>81</td>\n",
       "      <td>233</td>\n",
       "    </tr>\n",
       "    <tr>\n",
       "      <th>male</th>\n",
       "      <td>468</td>\n",
       "      <td>109</td>\n",
       "    </tr>\n",
       "  </tbody>\n",
       "</table>\n",
       "</div>"
      ],
      "text/plain": [
       "survived    0    1\n",
       "sex               \n",
       "female     81  233\n",
       "male      468  109"
      ]
     },
     "execution_count": 5,
     "metadata": {},
     "output_type": "execute_result"
    }
   ],
   "source": [
    "# creating a contegency table\n",
    "contegency_table = pd.crosstab(df['sex'], df['survived'])\n",
    "\n",
    "contegency_table"
   ]
  },
  {
   "cell_type": "code",
   "execution_count": 6,
   "metadata": {},
   "outputs": [
    {
     "name": "stdout",
     "output_type": "stream",
     "text": [
      "Chi-square statistic: 260.71702016732104\n",
      "p value: 1.1973570627755645e-58\n",
      "Degrees of freedom:  1\n",
      "Expected frequencies: \n",
      " [[193.47474747 120.52525253]\n",
      " [355.52525253 221.47474747]]\n"
     ]
    }
   ],
   "source": [
    "# applying the chi squared method\n",
    "chi2, p, dof, expected = stats.chi2_contingency(contegency_table)\n",
    "\n",
    "# print the result\n",
    "print (\"Chi-square statistic:\", chi2)\n",
    "print (\"p value:\", p)\n",
    "print (\"Degrees of freedom: \", dof)\n",
    "print (\"Expected frequencies: \\n\", expected)"
   ]
  },
  {
   "cell_type": "markdown",
   "metadata": {},
   "source": [
    "2. ### **Normal distribution test**"
   ]
  },
  {
   "cell_type": "markdown",
   "metadata": {},
   "source": [
    "The normal distribution test is a statistical analysis used to assess whether a given set of data follows a normal distribution. A normal distribution, also known as a Gaussian distribution or bell curve, is characterized by its symmetric, bell-shaped curve.\n",
    "\n",
    "## **Types of Normal Distribution Tests**\n",
    "\n",
    "There are various tests available to check for normality, with the most common ones being:\n",
    "\n",
    "1. **Shapiro-Wilk Test:**\n",
    "   - Determines whether a sample comes from a normally distributed population.\n",
    "   - Null Hypothesis (H₀): The data follows a normal distribution.\n",
    "   - Alternative Hypothesis (H₁): The data does not follow a normal distribution.\n",
    "\n",
    "2. **Kolmogorov-Smirnov Test:**\n",
    "   - Compares the sample distribution to a normal distribution.\n",
    "   - Null Hypothesis (H₀): The sample distribution is not significantly different from a normal distribution.\n",
    "   - Alternative Hypothesis (H₁): The sample distribution differs significantly from a normal distribution.\n",
    "\n",
    "3. **Anderson-Darling Test:**\n",
    "   - A variation of the Kolmogorov-Smirnov test with increased sensitivity to deviations in the tails of the distribution.\n",
    "   - Provides a more robust test for normality.\n",
    "\n",
    "## **Interpreting the Results**\n",
    "\n",
    "- **Small p-value (< 0.05):**\n",
    "  - Reject the null hypothesis.\n",
    "  - Conclude that the data does not follow a normal distribution.\n",
    "\n",
    "- **Large p-value (≥ 0.05):**\n",
    "  - Fail to reject the null hypothesis.\n",
    "  - Suggests that there is no significant evidence to claim departure from a normal distribution.\n",
    "\n",
    "## **How to Use**\n",
    "\n",
    "1. **Collect Data:**\n",
    "   - Obtain a sample dataset that you want to test for normality.\n",
    "\n",
    "2. **Select a Test:**\n",
    "   - Choose an appropriate normality test based on the characteristics of your data.\n",
    "\n",
    "3. **Formulate Hypotheses:**\n",
    "   - Null Hypothesis (H₀): The data follows a normal distribution.\n",
    "   - Alternative Hypothesis (H₁): The data does not follow a normal distribution.\n",
    "\n",
    "4. **Perform the Test:**\n",
    "   - Use statistical software or programming libraries to conduct the chosen normality test.\n",
    "\n",
    "5. **Analyze Results:**\n",
    "   - Examine the p-value obtained from the test.\n",
    "\n",
    "6. **Make a Decision:**\n",
    "   - If p-value < 0.05, reject the null hypothesis and conclude non-normality.\n"
   ]
  },
  {
   "cell_type": "code",
   "execution_count": 7,
   "metadata": {},
   "outputs": [
    {
     "data": {
      "text/html": [
       "<div>\n",
       "<style scoped>\n",
       "    .dataframe tbody tr th:only-of-type {\n",
       "        vertical-align: middle;\n",
       "    }\n",
       "\n",
       "    .dataframe tbody tr th {\n",
       "        vertical-align: top;\n",
       "    }\n",
       "\n",
       "    .dataframe thead th {\n",
       "        text-align: right;\n",
       "    }\n",
       "</style>\n",
       "<table border=\"1\" class=\"dataframe\">\n",
       "  <thead>\n",
       "    <tr style=\"text-align: right;\">\n",
       "      <th></th>\n",
       "      <th>survived</th>\n",
       "      <th>pclass</th>\n",
       "      <th>sex</th>\n",
       "      <th>age</th>\n",
       "      <th>sibsp</th>\n",
       "      <th>parch</th>\n",
       "      <th>fare</th>\n",
       "      <th>embarked</th>\n",
       "      <th>class</th>\n",
       "      <th>who</th>\n",
       "      <th>adult_male</th>\n",
       "      <th>deck</th>\n",
       "      <th>embark_town</th>\n",
       "      <th>alive</th>\n",
       "      <th>alone</th>\n",
       "    </tr>\n",
       "  </thead>\n",
       "  <tbody>\n",
       "    <tr>\n",
       "      <th>0</th>\n",
       "      <td>0</td>\n",
       "      <td>3</td>\n",
       "      <td>male</td>\n",
       "      <td>22.0</td>\n",
       "      <td>1</td>\n",
       "      <td>0</td>\n",
       "      <td>7.2500</td>\n",
       "      <td>S</td>\n",
       "      <td>Third</td>\n",
       "      <td>man</td>\n",
       "      <td>True</td>\n",
       "      <td>NaN</td>\n",
       "      <td>Southampton</td>\n",
       "      <td>no</td>\n",
       "      <td>False</td>\n",
       "    </tr>\n",
       "    <tr>\n",
       "      <th>1</th>\n",
       "      <td>1</td>\n",
       "      <td>1</td>\n",
       "      <td>female</td>\n",
       "      <td>38.0</td>\n",
       "      <td>1</td>\n",
       "      <td>0</td>\n",
       "      <td>71.2833</td>\n",
       "      <td>C</td>\n",
       "      <td>First</td>\n",
       "      <td>woman</td>\n",
       "      <td>False</td>\n",
       "      <td>C</td>\n",
       "      <td>Cherbourg</td>\n",
       "      <td>yes</td>\n",
       "      <td>False</td>\n",
       "    </tr>\n",
       "    <tr>\n",
       "      <th>2</th>\n",
       "      <td>1</td>\n",
       "      <td>3</td>\n",
       "      <td>female</td>\n",
       "      <td>26.0</td>\n",
       "      <td>0</td>\n",
       "      <td>0</td>\n",
       "      <td>7.9250</td>\n",
       "      <td>S</td>\n",
       "      <td>Third</td>\n",
       "      <td>woman</td>\n",
       "      <td>False</td>\n",
       "      <td>NaN</td>\n",
       "      <td>Southampton</td>\n",
       "      <td>yes</td>\n",
       "      <td>True</td>\n",
       "    </tr>\n",
       "    <tr>\n",
       "      <th>3</th>\n",
       "      <td>1</td>\n",
       "      <td>1</td>\n",
       "      <td>female</td>\n",
       "      <td>35.0</td>\n",
       "      <td>1</td>\n",
       "      <td>0</td>\n",
       "      <td>53.1000</td>\n",
       "      <td>S</td>\n",
       "      <td>First</td>\n",
       "      <td>woman</td>\n",
       "      <td>False</td>\n",
       "      <td>C</td>\n",
       "      <td>Southampton</td>\n",
       "      <td>yes</td>\n",
       "      <td>False</td>\n",
       "    </tr>\n",
       "    <tr>\n",
       "      <th>4</th>\n",
       "      <td>0</td>\n",
       "      <td>3</td>\n",
       "      <td>male</td>\n",
       "      <td>35.0</td>\n",
       "      <td>0</td>\n",
       "      <td>0</td>\n",
       "      <td>8.0500</td>\n",
       "      <td>S</td>\n",
       "      <td>Third</td>\n",
       "      <td>man</td>\n",
       "      <td>True</td>\n",
       "      <td>NaN</td>\n",
       "      <td>Southampton</td>\n",
       "      <td>no</td>\n",
       "      <td>True</td>\n",
       "    </tr>\n",
       "  </tbody>\n",
       "</table>\n",
       "</div>"
      ],
      "text/plain": [
       "   survived  pclass     sex   age  sibsp  parch     fare embarked  class  \\\n",
       "0         0       3    male  22.0      1      0   7.2500        S  Third   \n",
       "1         1       1  female  38.0      1      0  71.2833        C  First   \n",
       "2         1       3  female  26.0      0      0   7.9250        S  Third   \n",
       "3         1       1  female  35.0      1      0  53.1000        S  First   \n",
       "4         0       3    male  35.0      0      0   8.0500        S  Third   \n",
       "\n",
       "     who  adult_male deck  embark_town alive  alone  \n",
       "0    man        True  NaN  Southampton    no  False  \n",
       "1  woman       False    C    Cherbourg   yes  False  \n",
       "2  woman       False  NaN  Southampton   yes   True  \n",
       "3  woman       False    C  Southampton   yes  False  \n",
       "4    man        True  NaN  Southampton    no   True  "
      ]
     },
     "execution_count": 7,
     "metadata": {},
     "output_type": "execute_result"
    }
   ],
   "source": [
    "# prints 5 rows of our dataset\n",
    "df.head()"
   ]
  },
  {
   "cell_type": "code",
   "execution_count": 8,
   "metadata": {},
   "outputs": [
    {
     "data": {
      "text/plain": [
       "<Axes: xlabel='age', ylabel='Count'>"
      ]
     },
     "execution_count": 8,
     "metadata": {},
     "output_type": "execute_result"
    },
    {
     "data": {
      "image/png": "[encoded data removed]",
      "text/plain": [
       "<Figure size 640x480 with 1 Axes>"
      ]
     },
     "metadata": {},
     "output_type": "display_data"
    }
   ],
   "source": [
    "# graphical method\n",
    "sns.histplot(data=df, x='age', kde=True)"
   ]
  },
  {
   "cell_type": "code",
   "execution_count": 9,
   "metadata": {},
   "outputs": [
    {
     "data": {
      "text/plain": [
       "<Axes: xlabel='age', ylabel='Count'>"
      ]
     },
     "execution_count": 9,
     "metadata": {},
     "output_type": "execute_result"
    },
    {
     "data": {
      "image/png": "[encoded data removed]",
      "text/plain": [
       "<Figure size 640x480 with 1 Axes>"
      ]
     },
     "metadata": {},
     "output_type": "display_data"
    }
   ],
   "source": [
    "# graphical method\n",
    "sns.histplot(data=df, x='age', hue='who', kde=True)"
   ]
  },
  {
   "cell_type": "code",
   "execution_count": 10,
   "metadata": {},
   "outputs": [
    {
     "data": {
      "text/plain": [
       "ShapiroResult(statistic=nan, pvalue=1.0)"
      ]
     },
     "execution_count": 10,
     "metadata": {},
     "output_type": "execute_result"
    }
   ],
   "source": [
    "# shapiro wilk method\n",
    "stats.shapiro(df['age'])"
   ]
  },
  {
   "cell_type": "code",
   "execution_count": 11,
   "metadata": {},
   "outputs": [
    {
     "data": {
      "text/plain": [
       "ShapiroResult(statistic=0.5218917727470398, pvalue=1.0789998175301091e-43)"
      ]
     },
     "execution_count": 11,
     "metadata": {},
     "output_type": "execute_result"
    }
   ],
   "source": [
    "stats.shapiro(df['fare'])"
   ]
  },
  {
   "cell_type": "code",
   "execution_count": 12,
   "metadata": {},
   "outputs": [
    {
     "name": "stdout",
     "output_type": "stream",
     "text": [
      "p-value: 1.0, Sample looks gaussian/Normally distributed (fail to reject H0)\n"
     ]
    }
   ],
   "source": [
    "statistics ,p = stats.shapiro(df['age'])\n",
    "\n",
    "# printing results with if and else function\n",
    "if p > 0.05:\n",
    "    print(f'p-value: {p}, Sample looks gaussian/Normally distributed (fail to reject H0)')\n",
    "else:\n",
    "    print(f'p-value {p}, Sample does not look gaussian/Normally distributed')"
   ]
  },
  {
   "cell_type": "code",
   "execution_count": 13,
   "metadata": {},
   "outputs": [
    {
     "data": {
      "text/plain": [
       "<Axes: xlabel='fare', ylabel='Count'>"
      ]
     },
     "execution_count": 13,
     "metadata": {},
     "output_type": "execute_result"
    },
    {
     "data": {
      "image/png": "[encoded data removed]",
      "text/plain": [
       "<Figure size 640x480 with 1 Axes>"
      ]
     },
     "metadata": {},
     "output_type": "display_data"
    }
   ],
   "source": [
    "sns.histplot(data=df, x='fare', kde=True)"
   ]
  },
  {
   "cell_type": "code",
   "execution_count": 14,
   "metadata": {},
   "outputs": [
    {
     "name": "stdout",
     "output_type": "stream",
     "text": [
      "p-value 1.0789998175301091e-43, Sample does not look gaussian/Normally distributed\n"
     ]
    }
   ],
   "source": [
    "statistics ,p = stats.shapiro(df['fare'])\n",
    "\n",
    "# printing results with if and else function\n",
    "if p > 0.05:\n",
    "    print(f'p-value: {p}, Sample looks gaussian/Normally distributed (fail to reject H0)')\n",
    "else:\n",
    "    print(f'p-value {p}, Sample does not look gaussian/Normally distributed')"
   ]
  },
  {
   "cell_type": "markdown",
   "metadata": {},
   "source": [
    "#### **Using the Kolmogorov-Smirnov Test**"
   ]
  },
  {
   "cell_type": "code",
   "execution_count": 15,
   "metadata": {},
   "outputs": [
    {
     "name": "stdout",
     "output_type": "stream",
     "text": [
      "Kolmogorov-Smirnov Test Statistic:"
     ]
    },
    {
     "name": "stdout",
     "output_type": "stream",
     "text": [
      " 0.9831349436254704\n",
      "P-value: 0.0\n"
     ]
    },
    {
     "data": {
      "text/plain": [
       "<function matplotlib.pyplot.show(close=None, block=None)>"
      ]
     },
     "execution_count": 15,
     "metadata": {},
     "output_type": "execute_result"
    },
    {
     "data": {
      "image/png": "[encoded data removed]",
      "text/plain": [
       "<Figure size 640x480 with 1 Axes>"
      ]
     },
     "metadata": {},
     "output_type": "display_data"
    }
   ],
   "source": [
    "# import the libraries\n",
    "import matplotlib.pyplot as plt\n",
    "import seaborn as sns  # Add this line to import Seaborn\n",
    "from scipy.stats import kstest\n",
    "\n",
    "# Load the Titanic dataset\n",
    "df = sns.load_dataset('titanic')\n",
    "\n",
    "# Extract the \"Fare\" column\n",
    "fare = df['fare']\n",
    "\n",
    "# Perform the Kolmogorov-Smirnov test\n",
    "ks_statistic, ks_p_value = kstest(fare, 'norm')\n",
    "\n",
    "# Display the results\n",
    "print(\"Kolmogorov-Smirnov Test Statistic:\", ks_statistic)\n",
    "print(\"P-value:\", ks_p_value)\n",
    "\n",
    "# Visualization: Empirical Cumulative Distribution Function (ECDF) vs. Normal Distribution\n",
    "sns.ecdfplot(fare, label=\"Empirical CDF\")\n",
    "plt.title(\"Empirical Cumulative Distribution (ECD) vs. Normal Distribution\")\n",
    "plt.xlabel(\"fare\")\n",
    "plt.ylabel(\"Probability\")\n",
    "plt.legend()\n",
    "plt.show\n"
   ]
  },
  {
   "cell_type": "code",
   "execution_count": 16,
   "metadata": {},
   "outputs": [
    {
     "name": "stdout",
     "output_type": "stream",
     "text": [
      "Kolmogorov-Smirnov Test Statistic: nan\n",
      "P-value: nan\n"
     ]
    },
    {
     "data": {
      "text/plain": [
       "<function matplotlib.pyplot.show(close=None, block=None)>"
      ]
     },
     "execution_count": 16,
     "metadata": {},
     "output_type": "execute_result"
    },
    {
     "data": {
      "image/png": "[encoded data removed]",
      "text/plain": [
       "<Figure size 640x480 with 1 Axes>"
      ]
     },
     "metadata": {},
     "output_type": "display_data"
    }
   ],
   "source": [
    "# import the libraries\n",
    "import matplotlib.pyplot as plt\n",
    "import seaborn as sns  # Add this line to import Seaborn\n",
    "from scipy.stats import kstest\n",
    "\n",
    "# Load the Titanic dataset\n",
    "df = sns.load_dataset('titanic')\n",
    "\n",
    "# Extract the \"Fare\" column\n",
    "age = df['age']\n",
    "\n",
    "# Perform the Kolmogorov-Smirnov test\n",
    "ks_statistic, ks_p_value = kstest(age, 'norm')\n",
    "\n",
    "# Display the results\n",
    "print(\"Kolmogorov-Smirnov Test Statistic:\", ks_statistic)\n",
    "print(\"P-value:\", ks_p_value)\n",
    "\n",
    "# Visualization: Empirical Cumulative Distribution Function (ECDF) vs. Normal Distribution\n",
    "sns.ecdfplot(fare, label=\"Empirical CDF\")\n",
    "plt.title(\"Empirical Cumulative Distribution (ECD) vs. Normal Distribution\")\n",
    "plt.xlabel(\"age\")\n",
    "plt.ylabel(\"Probability\")\n",
    "plt.legend()\n",
    "plt.show\n"
   ]
  },
  {
   "cell_type": "markdown",
   "metadata": {},
   "source": [
    "3. ### **T-test / ANOVA**"
   ]
  },
  {
   "cell_type": "markdown",
   "metadata": {},
   "source": [
    "The t-test is a statistical test used to compare the means of two groups and determine if there is a significant difference between them. It is widely used in hypothesis testing when the data is approximately normally distributed.\n",
    "\n",
    "## **Types of T-Tests**\n",
    "\n",
    "There are different types of t-tests based on the study design and the number of groups being compared:\n",
    "\n",
    "1. **Independent Samples T-Test:**\n",
    "   - Used when comparing the means of two independent groups.\n",
    "   - Null Hypothesis (H₀): The means of the two groups are equal.\n",
    "   - Alternative Hypothesis (H₁): The means of the two groups are different.\n",
    "\n",
    "2. **Paired Samples T-Test:**\n",
    "   - Compares the means of two related groups, such as repeated measurements on the same subjects.\n",
    "   - Null Hypothesis (H₀): The means of the paired samples are equal.\n",
    "   - Alternative Hypothesis (H₁): The means of the paired samples are different.\n",
    "\n",
    "3. **One-Sample T-Test:**\n",
    "   - Used when comparing the mean of a sample to a known value or theoretical expectation.\n",
    "   - Null Hypothesis (H₀): The mean of the sample is equal to the specified value.\n",
    "   - Alternative Hypothesis (H₁): The mean of the sample is different from the specified value.\n",
    "\n",
    "## **Assumptions**\n",
    "\n",
    "The t-test assumes that the data follows a normal distribution and that the variances of the compared groups are approximately equal. However, it is robust to violations of normality, especially with larger sample sizes.\n",
    "\n",
    "## **How to Use**\n",
    "\n",
    "1. **Formulate Hypotheses:**\n",
    "   - Define null (H₀) and alternative (H₁) hypotheses based on the research question.\n",
    "\n",
    "2. **Collect Data:**\n",
    "   - Obtain data for the groups being compared.\n",
    "\n",
    "3. **Check Assumptions:**\n",
    "   - Verify that the data is approximately normally distributed and that the variances are similar.\n",
    "\n",
    "4. **Select the Appropriate T-Test:**\n",
    "   - Choose between independent samples, paired samples, or one-sample t-test based on the study design.\n",
    "\n",
    "5. **Perform the T-Test:**\n",
    "   - Use statistical software or programming libraries to conduct the t-test.\n",
    "\n",
    "6. **Analyze Results:**\n",
    "   - Examine the p-value obtained from the test.\n",
    "\n",
    "7. **Make a Decision:**\n",
    "   - If the p-value is below the chosen significance level, reject the null hypothesis.\n"
   ]
  },
  {
   "cell_type": "code",
   "execution_count": 17,
   "metadata": {},
   "outputs": [
    {
     "name": "stdout",
     "output_type": "stream",
     "text": [
      "p-value 1.0, Sample mean is not equal to the population mean\n"
     ]
    }
   ],
   "source": [
    "# import libraries\n",
    "import scipy.stats as stats\n",
    "\n",
    "# create a sample data\n",
    "x = [1,2,3,4,5]\n",
    "\n",
    "# known population mean \n",
    "mu = 3\n",
    "\n",
    "# perform the one sample t-test\n",
    "t_statistic, p = stats.ttest_1samp(x,mu)\n",
    "\n",
    "# # print the results\n",
    "# print(\"t-statistic:\",  t_statistic)\n",
    "# print(\"p-value:\",  p)\n",
    "\n",
    "# print the result using if and else\n",
    "if p < 0.05 :\n",
    "    print(f'p-value {p}, Sample mean is equal to population mean')\n",
    "else:\n",
    "    print(f'p-value {p}, Sample mean is not equal to the population mean')"
   ]
  },
  {
   "cell_type": "markdown",
   "metadata": {},
   "source": [
    "#### **Explanation of the code above**\n",
    "\n",
    "This code uses the scipy.stats module in Python to perform a one-sample t-test. It creates a sample dataset, sets a known population mean, and checks if the sample mean significantly differs from it. Results include the t-statistic and p-value."
   ]
  },
  {
   "cell_type": "code",
   "execution_count": 18,
   "metadata": {},
   "outputs": [
    {
     "name": "stdout",
     "output_type": "stream",
     "text": [
      "p-value 0.10175647371829195 group1 is not equal to the mean of group2\n"
     ]
    }
   ],
   "source": [
    "# import the neccesary library\n",
    "import scipy.stats as stats\n",
    "\n",
    "# generate a sample data\n",
    "group_1 = [2.3, 3.4, 4.5, 2.3, 3.4]\n",
    "group_2 = [1.2, 2.2, 3.2, 2.2, 2.3]\n",
    "\n",
    "# perform independent two sample t-test\n",
    "t_stat, p_val = stats.ttest_ind(group_1, group_2)\n",
    "\n",
    "# print(\"t-statistic:\", t_stat)\n",
    "# print(\"p-val:\", p_val)\n",
    "\n",
    "if p_val < 0.05:\n",
    " print(f'p-value {p_val} group1 is equal to the mean of group2')\n",
    "else:\n",
    "    print(f'p-value {p_val} group1 is not equal to the mean of group2')"
   ]
  },
  {
   "cell_type": "markdown",
   "metadata": {},
   "source": [
    "#### **Explanation of the code above**\n",
    "\n",
    "This code performs an independent two-sample t-test using the scipy.stats library in Python. It generates two groups of sample data (group_1 and group_2) and checks if their means are significantly different. The results include the t-statistic and p-value. If the p-value is less than 0.05, it concludes that the means are equal; otherwise, it states that the means are not equal. The commented-out lines can be used to print the t-statistic and p-value if needed."
   ]
  },
  {
   "cell_type": "code",
   "execution_count": 21,
   "metadata": {},
   "outputs": [
    {
     "name": "stdout",
     "output_type": "stream",
     "text": [
      "p-value 0.0 before mean is equal to after mean\n"
     ]
    }
   ],
   "source": [
    "# import the library\n",
    "import scipy.stats as stats\n",
    "\n",
    "# creating a sample dataset\n",
    "before = [2,3,4,5,6]\n",
    "after = [3,4,5,6,7]\n",
    "\n",
    "# performing the paried sample t-test\n",
    "t_stat, p_val = stats.ttest_rel(before, after)\n",
    "\n",
    "# print the results\n",
    "# print(\"t-statistic\", t_stat)\n",
    "# print(\"p-value\", p_val)\n",
    "\n",
    "if p_val < 0.05:\n",
    " print(f'p-value {p_val} before mean is equal to after mean')\n",
    "else:\n",
    "    print(f'p-value {p_val} before mean is not equal to after mean')\n"
   ]
  },
  {
   "cell_type": "markdown",
   "metadata": {},
   "source": [
    "#### **Explanation of the code above**\n",
    "\n",
    "This code uses SciPy to perform a paired sample t-test on 'before' and 'after' datasets. It checks if the means are statistically equal based on a significance level of 0.05 and prints the result."
   ]
  },
  {
   "cell_type": "markdown",
   "metadata": {},
   "source": [
    "# **Checking if our Data is homogeneized**"
   ]
  },
  {
   "cell_type": "markdown",
   "metadata": {},
   "source": [
    "1. ### **Levene's test**"
   ]
  },
  {
   "cell_type": "code",
   "execution_count": 29,
   "metadata": {},
   "outputs": [
    {
     "name": "stdout",
     "output_type": "stream",
     "text": [
      "t-statistic: 0.44651162790697696\n",
      "p-val: 0.5228039334796065\n",
      "p-value 0.5228039334796065 variances are not equal (reject H0)\n"
     ]
    }
   ],
   "source": [
    "# import the neccesary library\n",
    "import scipy.stats as stats\n",
    "\n",
    "# generate a sample data\n",
    "group_1 = [2.3, 3.4, 4.5, 2.3, 3.4]\n",
    "group_2 = [1.2, 2.2, 3.2, 2.2, 2.3]\n",
    "\n",
    "# perform independent two sample t-test\n",
    "w_stat, p_val = stats.levene(group_1, group_2)\n",
    "\n",
    "print(\"t-statistic:\", w_stat)\n",
    "print(\"p-val:\", p_val)\n",
    "\n",
    "if p_val < 0.05:\n",
    " print(f'p-value {p_val} variances are equal (failed to reject H0)')\n",
    "else:\n",
    "    print(f'p-value {p_val} variances are not equal (reject H0)')"
   ]
  },
  {
   "cell_type": "markdown",
   "metadata": {},
   "source": [
    "2. ### **Bartlett's test**"
   ]
  },
  {
   "cell_type": "code",
   "execution_count": 31,
   "metadata": {},
   "outputs": [
    {
     "name": "stdout",
     "output_type": "stream",
     "text": [
      "t-statistic: 0.24050679805097827\n",
      "p-val: 0.6238403179343277\n",
      "p-value 0.6238403179343277 variances are not equal (reject H0)\n"
     ]
    }
   ],
   "source": [
    "# import the neccesary library\n",
    "import scipy.stats as stats\n",
    "\n",
    "# generate a sample data\n",
    "group_1 = [2.3, 3.4, 4.5, 2.3, 3.4]\n",
    "group_2 = [1.2, 2.2, 3.2, 2.2, 2.3]\n",
    "\n",
    "# perform independent two sample t-test\n",
    "t_stat, p_val = stats.bartlett(group_1, group_2)\n",
    "\n",
    "print(\"t-statistic:\", t_stat)\n",
    "print(\"p-val:\", p_val)\n",
    "\n",
    "if p_val < 0.05:\n",
    " print(f'p-value {p_val} variances are equal (failed to reject H0)')\n",
    "else:\n",
    "    print(f'p-value {p_val} variances are not equal (reject H0)')"
   ]
  },
  {
   "cell_type": "markdown",
   "metadata": {},
   "source": [
    "# **ANOVA (Analysis of Variance)**"
   ]
  },
  {
   "cell_type": "markdown",
   "metadata": {},
   "source": [
    "1. ### **One-way ANOVA**"
   ]
  },
  {
   "cell_type": "code",
   "execution_count": 33,
   "metadata": {},
   "outputs": [
    {
     "name": "stdout",
     "output_type": "stream",
     "text": [
      "f-stat 685.158469945347\n",
      "p-val 4.279979561060642e-13\n",
      "p-value: 4.279979561060642e-13, means are equal (failed to reject H0)\n"
     ]
    }
   ],
   "source": [
    "# import library\n",
    "import scipy.stats as stats\n",
    "\n",
    "# creating multiple sample data\n",
    "a = [2.3, 3.4, 4.5, 2.3, 3.4]\n",
    "b = [11.2, 12.2, 13.2, 12.2, 12.3]\n",
    "c = [22.3, 23.4, 24.5, 22.3, 23.4]\n",
    "\n",
    "# perform one-way ANOVA\n",
    "f_stat, p_val = stats.f_oneway(a, b, c)\n",
    "\n",
    "# print the results\n",
    "print(\"f-stat\", f_stat)\n",
    "print (\"p-val\", p_val)\n",
    "\n",
    "# print the results using if, else\n",
    "if p_val < 0.05:\n",
    "    print(f'p-value: {p_val}, means are equal (failed to reject H0)')\n",
    "else:\n",
    "    print(f'p-value: {p_val}, means are not equal (reject H0)')"
   ]
  }
 ],
 "metadata": {
  "kernelspec": {
   "display_name": "Python 3",
   "language": "python",
   "name": "python3"
  },
  "language_info": {
   "codemirror_mode": {
    "name": "ipython",
    "version": 3
   },
   "file_extension": ".py",
   "mimetype": "text/x-python",
   "name": "python",
   "nbconvert_exporter": "python",
   "pygments_lexer": "ipython3",
   "version": "3.11.0"
  }
 },
 "nbformat": 4,
 "nbformat_minor": 2
}
